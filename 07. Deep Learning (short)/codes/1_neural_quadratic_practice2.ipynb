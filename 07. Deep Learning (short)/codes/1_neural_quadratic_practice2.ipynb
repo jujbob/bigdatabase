{
 "cells": [
  {
   "cell_type": "markdown",
   "metadata": {},
   "source": [
    "# Neural Network with Quadratic Data\n",
    "출처: https://github.com/GunhoChoi/PyTorch-FastCampus/blob/master/02_Regression%26NN/1_NN_code/1d_data/0_neural_quadratic.ipynb\n",
    "- y = 8x^2+7x+3\n",
    "- 4 hidden layers\n",
    "\n",
    "<img src=\"./quadratic.png\">\n",
    "\n",
    "사진출처: http://cs.franklin.edu/~sieberth/MATH160/bookFiles/Chapter3/333371_0307_317-323.pdf "
   ]
  },
  {
   "cell_type": "markdown",
   "metadata": {},
   "source": [
    "## 1.Import Required Libraries"
   ]
  },
  {
   "cell_type": "code",
   "execution_count": 1,
   "metadata": {},
   "outputs": [
    {
     "name": "stderr",
     "output_type": "stream",
     "text": [
      "WARNING:root:Setting up a new session...\n"
     ]
    }
   ],
   "source": [
    "import numpy as np\n",
    "import torch\n",
    "import torch.nn as nn\n",
    "import torch.optim as optim\n",
    "import torch.nn.init as init\n",
    "\n",
    "from torch.autograd import Variable\n",
    "from visdom import Visdom\n",
    "viz = Visdom()"
   ]
  },
  {
   "cell_type": "code",
   "execution_count": null,
   "metadata": {},
   "outputs": [],
   "source": []
  },
  {
   "cell_type": "markdown",
   "metadata": {},
   "source": [
    "## 2. Data Generation"
   ]
  },
  {
   "cell_type": "code",
   "execution_count": 2,
   "metadata": {},
   "outputs": [
    {
     "name": "stderr",
     "output_type": "stream",
     "text": [
      "/Users/lim/anaconda3/envs/NLPApps/lib/python3.7/site-packages/ipykernel_launcher.py:4: UserWarning: nn.init.normal is now deprecated in favor of nn.init.normal_.\n",
      "  after removing the cwd from sys.path.\n",
      "/Users/lim/anaconda3/envs/NLPApps/lib/python3.7/site-packages/ipykernel_launcher.py:6: UserWarning: nn.init.uniform is now deprecated in favor of nn.init.uniform_.\n",
      "  \n"
     ]
    }
   ],
   "source": [
    "num_data = 1000\n",
    "num_epoch = 5000\n",
    "\n",
    "noise = init.normal(torch.FloatTensor(num_data,1),std=3)\n",
    "\n",
    "x = init.uniform(torch.Tensor(num_data,1),-15,15)\n",
    "y = (x**2) + 3 \n",
    "\n",
    "y_noise = y + noise"
   ]
  },
  {
   "cell_type": "code",
   "execution_count": 3,
   "metadata": {},
   "outputs": [],
   "source": [
    "# visualize data\n",
    "\n",
    "input_data = torch.cat([x,y_noise],1)\n",
    "\n",
    "win=viz.scatter(\n",
    "    X = input_data,\n",
    "    opts=dict(\n",
    "        xtickmin=-15,\n",
    "        xtickmax=15,\n",
    "        xtickstep=1,\n",
    "        ytickmin=0,\n",
    "        ytickmax=500,\n",
    "        ytickstep=1,\n",
    "        markersymbol='dot',\n",
    "        markercolor=np.random.randint(0, 255, num_data),\n",
    "        markersize=5,\n",
    "    ),\n",
    ")\n"
   ]
  },
  {
   "cell_type": "code",
   "execution_count": 4,
   "metadata": {},
   "outputs": [],
   "source": [
    "\n",
    "win=viz.scatter(\n",
    "    X = torch.cat([x,y],1),\n",
    "    opts=dict(\n",
    "        xtickmin=-15,\n",
    "        xtickmax=15,\n",
    "        xtickstep=1,\n",
    "        ytickmin=0,\n",
    "        ytickmax=500,\n",
    "        ytickstep=1,\n",
    "        markersymbol='dot',\n",
    "        markercolor=np.random.randint(0, 255, num_data),\n",
    "        markersize=5,\n",
    "    ),\n",
    ")\n"
   ]
  },
  {
   "cell_type": "markdown",
   "metadata": {},
   "source": [
    "## 문제1. Layer가 4개인 Neural모델을 생성해 봅시다.\n",
    " - layer1은 W가 6개 + ReLU\n",
    " - layer2는 W가 4개 + ReLU\n",
    " - layer3은 W가 7개 + ReLU\n",
    " - 힌트: 마지막에 반환될 값은 한개가 되겠죠?"
   ]
  },
  {
   "cell_type": "markdown",
   "metadata": {},
   "source": [
    "## 3. Model & Optimizer"
   ]
  },
  {
   "cell_type": "code",
   "execution_count": 5,
   "metadata": {},
   "outputs": [],
   "source": [
    "# 3. Build the Model as a Class\n",
    "\n",
    "#model = nn.Sequential(\n",
    "#        nn.Linear(input_size, hidden_size),\n",
    "#        nn.ReLU(),\n",
    "#        nn.Linear(6,1)\n",
    "#    )\n",
    "\n",
    "class MyModel(nn.Module):\n",
    "    def __init__(self, input_size, hidden_size, output_size):\n",
    "        super(MyModel, self).__init__()\n",
    "\n",
    "        self.linear1 = ## 코드를 작성해 보세요!! 힌트: W의 갯수가 몇개죠?\n",
    "        self.relu = ##  코드를 작성해 보세요!!\n",
    "        self.linear2 = ## 코드를 작성해 보세요!! 힌트: 몇개의 데이터가 최종적으로 반환되어야 할까요?\n",
    "        \n",
    "    def forward(self, x):\n",
    "        \n",
    "        y = self.linear1(x)\n",
    "        y_relu = self.relu(y)\n",
    "        z = self.linear2(y_relu)\n",
    "        \n",
    "        return z\n",
    "\n",
    "model = MyModel(1,12,1)\n",
    "\n",
    "loss_func = nn.L1Loss()\n",
    "optimizer = optim.SGD(model.parameters(),lr=0.001)"
   ]
  },
  {
   "cell_type": "code",
   "execution_count": 6,
   "metadata": {},
   "outputs": [
    {
     "data": {
      "text/plain": [
       "'\\nmodel = nn.Sequential(\\n\\n    ## 여기에 코드를 넣으세요.\\n    \\n    )\\n'"
      ]
     },
     "execution_count": 6,
     "metadata": {},
     "output_type": "execute_result"
    }
   ],
   "source": [
    "'''\n",
    "model = nn.Sequential(\n",
    "\n",
    "    ## 여기에 코드를 넣으세요.\n",
    "    \n",
    "    )\n",
    "'''"
   ]
  },
  {
   "cell_type": "markdown",
   "metadata": {},
   "source": [
    "## 4. Train "
   ]
  },
  {
   "cell_type": "code",
   "execution_count": 7,
   "metadata": {
    "scrolled": true
   },
   "outputs": [
    {
     "name": "stdout",
     "output_type": "stream",
     "text": [
      "tensor(71.9169, grad_fn=<L1LossBackward>)\n",
      "tensor(63.4106, grad_fn=<L1LossBackward>)\n",
      "tensor(48.5161, grad_fn=<L1LossBackward>)\n",
      "tensor(29.9668, grad_fn=<L1LossBackward>)\n",
      "tensor(21.5439, grad_fn=<L1LossBackward>)\n",
      "tensor(19.9107, grad_fn=<L1LossBackward>)\n",
      "tensor(19.7616, grad_fn=<L1LossBackward>)\n",
      "tensor(19.6753, grad_fn=<L1LossBackward>)\n",
      "tensor(19.5890, grad_fn=<L1LossBackward>)\n",
      "tensor(19.5024, grad_fn=<L1LossBackward>)\n",
      "tensor(19.4154, grad_fn=<L1LossBackward>)\n",
      "tensor(19.3277, grad_fn=<L1LossBackward>)\n",
      "tensor(19.2403, grad_fn=<L1LossBackward>)\n",
      "tensor(19.1527, grad_fn=<L1LossBackward>)\n",
      "tensor(19.0647, grad_fn=<L1LossBackward>)\n",
      "tensor(18.9774, grad_fn=<L1LossBackward>)\n",
      "tensor(18.8901, grad_fn=<L1LossBackward>)\n",
      "tensor(18.8012, grad_fn=<L1LossBackward>)\n",
      "tensor(18.7108, grad_fn=<L1LossBackward>)\n",
      "tensor(18.6196, grad_fn=<L1LossBackward>)\n",
      "tensor(18.5282, grad_fn=<L1LossBackward>)\n",
      "tensor(18.4366, grad_fn=<L1LossBackward>)\n",
      "tensor(18.3454, grad_fn=<L1LossBackward>)\n",
      "tensor(18.2542, grad_fn=<L1LossBackward>)\n",
      "tensor(18.1639, grad_fn=<L1LossBackward>)\n",
      "tensor(18.0739, grad_fn=<L1LossBackward>)\n",
      "tensor(17.9834, grad_fn=<L1LossBackward>)\n",
      "tensor(17.8911, grad_fn=<L1LossBackward>)\n",
      "tensor(17.7983, grad_fn=<L1LossBackward>)\n",
      "tensor(17.7039, grad_fn=<L1LossBackward>)\n",
      "tensor(17.6109, grad_fn=<L1LossBackward>)\n",
      "tensor(17.5185, grad_fn=<L1LossBackward>)\n",
      "tensor(17.4256, grad_fn=<L1LossBackward>)\n",
      "tensor(17.3323, grad_fn=<L1LossBackward>)\n",
      "tensor(17.2373, grad_fn=<L1LossBackward>)\n",
      "tensor(17.1419, grad_fn=<L1LossBackward>)\n",
      "tensor(17.0462, grad_fn=<L1LossBackward>)\n",
      "tensor(16.9493, grad_fn=<L1LossBackward>)\n",
      "tensor(16.8516, grad_fn=<L1LossBackward>)\n",
      "tensor(16.7515, grad_fn=<L1LossBackward>)\n",
      "tensor(16.6483, grad_fn=<L1LossBackward>)\n",
      "tensor(16.5426, grad_fn=<L1LossBackward>)\n",
      "tensor(16.4383, grad_fn=<L1LossBackward>)\n",
      "tensor(16.3330, grad_fn=<L1LossBackward>)\n",
      "tensor(16.2282, grad_fn=<L1LossBackward>)\n",
      "tensor(16.1215, grad_fn=<L1LossBackward>)\n",
      "tensor(16.0125, grad_fn=<L1LossBackward>)\n",
      "tensor(15.9037, grad_fn=<L1LossBackward>)\n",
      "tensor(15.7932, grad_fn=<L1LossBackward>)\n",
      "tensor(15.6820, grad_fn=<L1LossBackward>)\n"
     ]
    }
   ],
   "source": [
    "loss_arr =[]\n",
    "label = y_noise\n",
    "\n",
    "for i in range(num_epoch):\n",
    "    optimizer.zero_grad()\n",
    "    output = model.forward(x)\n",
    "\n",
    "    loss = loss_func(output,label)\n",
    "    loss.backward()\n",
    "    optimizer.step()\n",
    "    \n",
    "    if i % 100 ==0:\n",
    "        print(loss)\n",
    "    \n",
    "    #loss_arr.append(loss.cpu().data.numpy()[0])\n",
    "    loss_arr.append(loss.item())"
   ]
  },
  {
   "cell_type": "code",
   "execution_count": 8,
   "metadata": {},
   "outputs": [
    {
     "name": "stdout",
     "output_type": "stream",
     "text": [
      "[Parameter containing:\n",
      "tensor([[ 1.3504],\n",
      "        [ 1.5298],\n",
      "        [-1.6294],\n",
      "        [-0.2808],\n",
      "        [-1.2541],\n",
      "        [-2.0132],\n",
      "        [ 1.3296],\n",
      "        [-0.0383],\n",
      "        [-0.0222],\n",
      "        [ 1.3129],\n",
      "        [-1.2934],\n",
      "        [ 0.9781]], requires_grad=True), Parameter containing:\n",
      "tensor([-1.7627, -2.1130, -1.1877, -0.4254, -1.9531, -1.4748, -1.0591, -0.5737,\n",
      "         0.3324, -1.3580, -0.8094, -1.9781], requires_grad=True), Parameter containing:\n",
      "tensor([[ 1.9847,  2.3012,  1.8930,  0.4382,  2.1563,  2.3231,  1.5672, -0.2395,\n",
      "         -0.2232,  1.6593,  1.4489,  1.9874]], requires_grad=True), Parameter containing:\n",
      "tensor([-1.4168], requires_grad=True)]\n"
     ]
    }
   ],
   "source": [
    "param_list = list(model.parameters())\n",
    "print(param_list)"
   ]
  },
  {
   "cell_type": "markdown",
   "metadata": {},
   "source": [
    "## 5. Visualize Trained Output"
   ]
  },
  {
   "cell_type": "code",
   "execution_count": 9,
   "metadata": {},
   "outputs": [],
   "source": [
    "win2=viz.scatter(\n",
    "    X = torch.cat([x, output],1),\n",
    "    opts=dict(\n",
    "        xtickmin=-15,\n",
    "        xtickmax=10,\n",
    "        xtickstep=1,\n",
    "        ytickmin=0,\n",
    "        ytickmax=500,\n",
    "        ytickstep=1,\n",
    "        markersymbol='dot',\n",
    "        markercolor=np.random.randint(0, 255, num_data),\n",
    "        markersize=5,\n",
    "    ),\n",
    ")\n"
   ]
  },
  {
   "cell_type": "markdown",
   "metadata": {},
   "source": [
    "## 6. Visualize Loss Graph"
   ]
  },
  {
   "cell_type": "code",
   "execution_count": 10,
   "metadata": {},
   "outputs": [],
   "source": [
    "x = np.reshape([i for i in range(num_epoch)],newshape=[num_epoch,1])\n",
    "loss_data = np.reshape(loss_arr,newshape=[num_epoch,1])\n",
    "\n",
    "win3=viz.line(\n",
    "    X = x,\n",
    "    Y = loss_data,\n",
    ")"
   ]
  }
 ],
 "metadata": {
  "kernelspec": {
   "display_name": "Python 3",
   "language": "python",
   "name": "python3"
  },
  "language_info": {
   "codemirror_mode": {
    "name": "ipython",
    "version": 3
   },
   "file_extension": ".py",
   "mimetype": "text/x-python",
   "name": "python",
   "nbconvert_exporter": "python",
   "pygments_lexer": "ipython3",
   "version": "3.7.1"
  }
 },
 "nbformat": 4,
 "nbformat_minor": 1
}
