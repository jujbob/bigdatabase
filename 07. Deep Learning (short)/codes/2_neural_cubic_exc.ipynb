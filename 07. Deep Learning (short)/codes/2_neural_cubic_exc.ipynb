{
 "cells": [
  {
   "cell_type": "markdown",
   "metadata": {},
   "source": [
    "# Neural Network with Cubic Data (multi-dimensional)\n",
    "- y = x^3 -3x^2 -9x -1\n",
    "- 5 hidden layers"
   ]
  },
  {
   "cell_type": "markdown",
   "metadata": {},
   "source": [
    "## 1.Import Required Libraries"
   ]
  },
  {
   "cell_type": "code",
   "execution_count": 1,
   "metadata": {},
   "outputs": [],
   "source": [
    "import numpy as np\n",
    "import torch\n",
    "import torch.nn as nn\n",
    "import torch.optim as optim\n",
    "import torch.nn.init as init\n",
    "from torch.autograd import Variable"
   ]
  },
  {
   "cell_type": "markdown",
   "metadata": {},
   "source": [
    "## 2. Data Generation"
   ]
  },
  {
   "cell_type": "code",
   "execution_count": 2,
   "metadata": {},
   "outputs": [
    {
     "name": "stderr",
     "output_type": "stream",
     "text": [
      "/var/folders/ws/_w1zc2m561d_76233frzs4qr0000gn/T/ipykernel_15862/3772392901.py:4: UserWarning: nn.init.uniform is now deprecated in favor of nn.init.uniform_.\n",
      "  x = init.uniform(torch.Tensor(num_data,1),-10,10)\n",
      "/var/folders/ws/_w1zc2m561d_76233frzs4qr0000gn/T/ipykernel_15862/3772392901.py:7: UserWarning: nn.init.normal is now deprecated in favor of nn.init.normal_.\n",
      "  noise = init.normal(torch.FloatTensor(num_data,1),std=3)\n"
     ]
    }
   ],
   "source": [
    "num_data = 1000\n",
    "num_epoch = 5000\n",
    "\n",
    "x = init.uniform(torch.Tensor(num_data,1),-10,10)\n",
    "y = (x**3) - 3*(x**2) - 9*x - 1\n",
    "\n",
    "noise = init.normal(torch.FloatTensor(num_data,1),std=3)\n",
    "\n",
    "y_noise = y + noise"
   ]
  },
  {
   "cell_type": "code",
   "execution_count": 6,
   "metadata": {},
   "outputs": [],
   "source": [
    "import matplotlib.pyplot as plt"
   ]
  },
  {
   "cell_type": "markdown",
   "metadata": {},
   "source": [
    "## 2-1. Visualization of the data distributions"
   ]
  },
  {
   "cell_type": "code",
   "execution_count": 48,
   "metadata": {},
   "outputs": [
    {
     "data": {
      "text/plain": [
       "<matplotlib.collections.PathCollection at 0x7fd969f56250>"
      ]
     },
     "execution_count": 48,
     "metadata": {},
     "output_type": "execute_result"
    },
    {
     "data": {
      "image/png": "[encoded data removed]",
      "text/plain": [
       "<Figure size 432x288 with 2 Axes>"
      ]
     },
     "metadata": {
      "needs_background": "light"
     },
     "output_type": "display_data"
    }
   ],
   "source": [
    "#Insert your won code"
   ]
  },
  {
   "cell_type": "markdown",
   "metadata": {},
   "source": [
    "## 3. Model & Optimizer"
   ]
  },
  {
   "cell_type": "code",
   "execution_count": 9,
   "metadata": {},
   "outputs": [],
   "source": [
    "model = # add up your code\n",
    "loss_func = # add up your code\n",
    "optimizer = # add up your code"
   ]
  },
  {
   "cell_type": "markdown",
   "metadata": {},
   "source": [
    "## 4. Train "
   ]
  },
  {
   "cell_type": "code",
   "execution_count": 10,
   "metadata": {},
   "outputs": [
    {
     "name": "stdout",
     "output_type": "stream",
     "text": [
      "tensor(217.9167, grad_fn=<L1LossBackward0>)\n",
      "tensor(217.8047, grad_fn=<L1LossBackward0>)\n",
      "tensor(217.7175, grad_fn=<L1LossBackward0>)\n",
      "tensor(217.6000, grad_fn=<L1LossBackward0>)\n",
      "tensor(217.4120, grad_fn=<L1LossBackward0>)\n",
      "tensor(217.0665, grad_fn=<L1LossBackward0>)\n",
      "tensor(216.3069, grad_fn=<L1LossBackward0>)\n",
      "tensor(214.2494, grad_fn=<L1LossBackward0>)\n",
      "tensor(208.2639, grad_fn=<L1LossBackward0>)\n",
      "tensor(201.7706, grad_fn=<L1LossBackward0>)\n",
      "tensor(198.1934, grad_fn=<L1LossBackward0>)\n",
      "tensor(177.7787, grad_fn=<L1LossBackward0>)\n",
      "tensor(124.9822, grad_fn=<L1LossBackward0>)\n",
      "tensor(121.3075, grad_fn=<L1LossBackward0>)\n",
      "tensor(116.8841, grad_fn=<L1LossBackward0>)\n",
      "tensor(110.7129, grad_fn=<L1LossBackward0>)\n",
      "tensor(100.5666, grad_fn=<L1LossBackward0>)\n",
      "tensor(85.6239, grad_fn=<L1LossBackward0>)\n",
      "tensor(67.4421, grad_fn=<L1LossBackward0>)\n",
      "tensor(51.2594, grad_fn=<L1LossBackward0>)\n",
      "tensor(73.7572, grad_fn=<L1LossBackward0>)\n",
      "tensor(68.7844, grad_fn=<L1LossBackward0>)\n",
      "tensor(50.8539, grad_fn=<L1LossBackward0>)\n",
      "tensor(56.0037, grad_fn=<L1LossBackward0>)\n",
      "tensor(32.5189, grad_fn=<L1LossBackward0>)\n",
      "tensor(37.6421, grad_fn=<L1LossBackward0>)\n",
      "tensor(42.5426, grad_fn=<L1LossBackward0>)\n",
      "tensor(45.4579, grad_fn=<L1LossBackward0>)\n",
      "tensor(45.6940, grad_fn=<L1LossBackward0>)\n",
      "tensor(45.7439, grad_fn=<L1LossBackward0>)\n",
      "tensor(53.6737, grad_fn=<L1LossBackward0>)\n",
      "tensor(26.6197, grad_fn=<L1LossBackward0>)\n",
      "tensor(44.2216, grad_fn=<L1LossBackward0>)\n",
      "tensor(51.1176, grad_fn=<L1LossBackward0>)\n",
      "tensor(36.6534, grad_fn=<L1LossBackward0>)\n",
      "tensor(41.7188, grad_fn=<L1LossBackward0>)\n",
      "tensor(50.8648, grad_fn=<L1LossBackward0>)\n",
      "tensor(32.1905, grad_fn=<L1LossBackward0>)\n",
      "tensor(40.4711, grad_fn=<L1LossBackward0>)\n",
      "tensor(35.8115, grad_fn=<L1LossBackward0>)\n",
      "tensor(34.1998, grad_fn=<L1LossBackward0>)\n",
      "tensor(34.8244, grad_fn=<L1LossBackward0>)\n",
      "tensor(36.0277, grad_fn=<L1LossBackward0>)\n",
      "tensor(24.4693, grad_fn=<L1LossBackward0>)\n",
      "tensor(33.9440, grad_fn=<L1LossBackward0>)\n",
      "tensor(28.5759, grad_fn=<L1LossBackward0>)\n",
      "tensor(33.0138, grad_fn=<L1LossBackward0>)\n",
      "tensor(27.4889, grad_fn=<L1LossBackward0>)\n",
      "tensor(27.8444, grad_fn=<L1LossBackward0>)\n",
      "tensor(23.8300, grad_fn=<L1LossBackward0>)\n"
     ]
    }
   ],
   "source": [
    "loss_arr =[]\n",
    "label = y_noise\n",
    "\n",
    "for i in range(num_epoch):\n",
    " \n",
    "    # add up your code\n",
    "    if i % 100 ==0:\n",
    "        print(loss)\n",
    "        \n",
    "    loss_arr.append(loss.item())"
   ]
  },
  {
   "cell_type": "code",
   "execution_count": 11,
   "metadata": {},
   "outputs": [
    {
     "name": "stdout",
     "output_type": "stream",
     "text": [
      "[Parameter containing:\n",
      "tensor([[ 0.5333],\n",
      "        [ 0.4247],\n",
      "        [ 0.1902],\n",
      "        [ 0.2563],\n",
      "        [ 0.2408],\n",
      "        [-0.3046],\n",
      "        [ 1.0532],\n",
      "        [-0.1678],\n",
      "        [ 0.9638],\n",
      "        [-0.9347],\n",
      "        [ 0.4887],\n",
      "        [-0.0106],\n",
      "        [ 0.1829],\n",
      "        [-0.4004],\n",
      "        [-0.4562],\n",
      "        [-1.0367],\n",
      "        [ 0.0600],\n",
      "        [-0.5224],\n",
      "        [ 0.3012],\n",
      "        [-1.7063]], requires_grad=True), Parameter containing:\n",
      "tensor([-1.0133, -2.8801, -0.9635,  0.7975,  0.9735,  1.6532, -4.2079,  0.9235,\n",
      "        -5.7879, -4.1648, -0.7237, -0.1410,  0.8631, -1.3746, -2.0275, -6.0566,\n",
      "         0.1542, -0.8111, -0.1161, -4.0812], requires_grad=True), Parameter containing:\n",
      "tensor([[ 1.6164e-01, -1.0464e-02,  1.2967e-01, -1.5416e-01, -7.0768e-02,\n",
      "          3.8128e-01,  2.4928e-03,  8.9819e-02, -1.5088e-01,  1.6236e+00,\n",
      "         -8.6844e-02,  2.0852e-01,  8.4702e-02,  6.6278e-01,  6.0084e-01,\n",
      "          2.2736e+00, -1.5522e-01,  5.3212e-01, -1.6688e-02,  1.8151e+00],\n",
      "        [ 1.2480e-01, -2.1561e-01, -1.4394e-01,  5.4432e-02,  7.6875e-02,\n",
      "         -1.6434e-01, -1.3016e-01, -1.9190e-01, -7.2813e-02,  5.1968e-02,\n",
      "         -1.2564e-01, -2.7269e-02,  1.8682e-01,  1.1879e-01, -1.3849e-01,\n",
      "          2.0609e-01,  1.5892e-03,  5.0215e-02,  1.1057e-01, -2.0595e-01],\n",
      "        [ 5.1293e-01, -1.3030e+00, -3.8387e-01,  1.1260e+00,  1.0006e+00,\n",
      "         -8.2921e-01, -6.2583e-01, -2.8819e-01, -2.0233e+00,  1.1972e+00,\n",
      "          6.7235e-01, -1.5626e-01,  3.4102e-01,  3.5677e-01,  7.9886e-01,\n",
      "          2.4030e+00,  2.0664e-01,  2.3917e-01,  6.3233e-01,  1.0480e+00],\n",
      "        [-5.3881e-02,  1.1835e-01,  5.5758e-02,  6.5975e-03,  1.6484e-01,\n",
      "         -1.9326e-01,  1.4258e-01, -2.0385e-01, -2.1536e-01,  8.3356e-02,\n",
      "         -1.5106e-01, -8.2764e-04, -5.1438e-02, -2.1058e-01, -1.9574e-01,\n",
      "          4.9651e-03, -2.2538e-02, -1.1387e-01, -2.0044e-01,  1.8242e-01],\n",
      "        [ 1.3156e-01, -8.4049e-02, -1.1742e-01, -9.2683e-02, -1.6242e-01,\n",
      "         -1.1890e-02, -1.7378e-01,  7.4958e-02, -1.8792e-01, -1.2085e-01,\n",
      "         -8.9946e-02,  1.9783e-01,  1.4953e-01,  1.9001e-01,  5.9634e-02,\n",
      "         -2.2335e-01,  6.6578e-03, -2.1875e-01,  2.0102e-01,  9.5137e-02],\n",
      "        [ 8.6268e-01,  1.2565e+00,  3.1793e-01,  6.9942e-01,  4.2203e-01,\n",
      "          1.4326e-01,  1.6764e+00,  1.7139e-01,  2.7103e+00, -3.2190e-01,\n",
      "          8.1765e-01,  1.4376e-01,  5.2462e-02,  3.6829e-01, -6.7002e-02,\n",
      "         -1.0412e+00, -4.2137e-04, -5.2432e-02,  4.8221e-01,  1.5504e-01],\n",
      "        [ 6.3431e-01,  5.9459e-01,  1.5946e-01,  1.1839e-01,  2.5619e-01,\n",
      "         -3.5891e-01,  8.7431e-01, -2.9757e-01,  1.1899e+00,  1.4208e-01,\n",
      "          5.7913e-01,  2.1931e-01, -2.1741e-01, -2.5596e-02,  9.4058e-02,\n",
      "          1.9673e-03,  2.5557e-01,  5.2750e-02,  4.6129e-01, -1.8204e-01],\n",
      "        [-1.9313e-01, -2.4647e-02, -4.2266e-02, -9.8436e-03, -7.7531e-02,\n",
      "          1.4548e-02,  6.7400e-02,  1.9023e-01,  1.9690e-01, -4.6901e-02,\n",
      "          6.5814e-02,  1.8017e-02, -7.6139e-02, -1.9212e-01,  6.3169e-02,\n",
      "          1.4811e-01,  2.4273e-02, -2.9098e-01, -1.6063e-02,  5.7126e-02],\n",
      "        [-9.1014e-02,  1.8244e-01,  1.0672e-01,  1.3782e-02, -1.1628e-01,\n",
      "          6.8995e-02,  1.3538e-01, -1.8761e-01, -9.8596e-02, -1.3605e-01,\n",
      "          1.2791e-01, -3.4158e-02, -1.8167e-01,  1.3869e-01, -1.5658e-01,\n",
      "         -1.7839e-01,  1.1225e-01, -4.6531e-02, -1.3958e-01, -1.6804e-01],\n",
      "        [-1.3181e-01,  1.6480e-01,  1.5981e-01, -1.5749e-01,  2.1896e-02,\n",
      "         -1.9244e-02, -2.1488e-01, -2.4116e-01, -9.8916e-03,  1.9716e-01,\n",
      "         -1.6876e-01,  1.1299e-01, -3.1649e-04, -1.8341e-01,  1.8586e-02,\n",
      "         -1.6448e-01,  1.2777e-01, -9.1390e-03, -8.0739e-02,  8.8283e-02]],\n",
      "       requires_grad=True), Parameter containing:\n",
      "tensor([-1.3477,  0.2149, -0.0823,  0.1798, -0.1765, -0.8139, -0.7707, -0.0696,\n",
      "         0.2067,  0.1717], requires_grad=True), Parameter containing:\n",
      "tensor([[-7.5681e-02, -1.4208e-01,  5.4538e-02, -2.9011e-01, -2.9792e-01,\n",
      "         -2.7473e-01,  2.2978e-01, -8.5835e-03,  1.0056e-01,  1.9539e-01],\n",
      "        [ 9.1006e-02, -2.7285e-01, -1.8896e-01,  1.5563e-01,  1.0916e-01,\n",
      "          2.0246e+00,  1.0824e+00,  1.8651e-01,  2.9315e-01, -2.8026e-01],\n",
      "        [ 3.3275e+00,  1.6516e-01,  3.2471e+00, -1.9690e-01,  3.0041e-01,\n",
      "         -7.5471e-01, -4.8716e-02, -2.6208e-02, -2.5321e-01, -7.9984e-02],\n",
      "        [ 1.0654e-02, -2.6091e-01, -1.5151e-02,  2.1765e-02,  2.7382e-03,\n",
      "         -1.4780e-01, -2.9340e-01, -1.3664e-01,  4.0524e-02,  1.5496e-01],\n",
      "        [-2.6023e-01, -1.0878e-01,  2.6584e-01,  1.5112e-01, -1.5365e-01,\n",
      "          2.5898e+00,  1.6641e+00,  2.3527e-01, -1.7305e-01, -8.5600e-02]],\n",
      "       requires_grad=True), Parameter containing:\n",
      "tensor([-0.1379, -0.1433,  0.5371, -0.1474, -0.0709], requires_grad=True), Parameter containing:\n",
      "tensor([[ 0.1398,  2.2532, -4.5352,  0.2479,  3.0554]], requires_grad=True), Parameter containing:\n",
      "tensor([-0.4490], requires_grad=True)]\n"
     ]
    }
   ],
   "source": [
    "param_list = list(model.parameters())\n",
    "print(param_list)"
   ]
  },
  {
   "cell_type": "markdown",
   "metadata": {},
   "source": [
    "## 5. Visualize Trained Output"
   ]
  }
 ],
 "metadata": {
  "kernelspec": {
   "display_name": "Python 3 (ipykernel)",
   "language": "python",
   "name": "python3"
  },
  "language_info": {
   "codemirror_mode": {
    "name": "ipython",
    "version": 3
   },
   "file_extension": ".py",
   "mimetype": "text/x-python",
   "name": "python",
   "nbconvert_exporter": "python",
   "pygments_lexer": "ipython3",
   "version": "3.9.7"
  }
 },
 "nbformat": 4,
 "nbformat_minor": 1
}
