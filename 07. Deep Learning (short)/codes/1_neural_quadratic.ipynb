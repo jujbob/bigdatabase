{
 "cells": [
  {
   "cell_type": "markdown",
   "metadata": {},
   "source": [
    "# Neural Network with Quadratic Data\n",
    "출처: https://github.com/GunhoChoi/PyTorch-FastCampus/blob/master/02_Regression%26NN/1_NN_code/1d_data/0_neural_quadratic.ipynb\n",
    "- y = 8x^2+7x+3\n",
    "- 4 hidden layers\n",
    "\n",
    "<img src=\"./quadratic.png\">\n",
    "\n",
    "사진출처: http://cs.franklin.edu/~sieberth/MATH160/bookFiles/Chapter3/333371_0307_317-323.pdf "
   ]
  },
  {
   "cell_type": "markdown",
   "metadata": {},
   "source": [
    "## 1.Import Required Libraries"
   ]
  },
  {
   "cell_type": "code",
   "execution_count": 1,
   "metadata": {},
   "outputs": [
    {
     "name": "stderr",
     "output_type": "stream",
     "text": [
      "WARNING:root:Setting up a new session...\n"
     ]
    }
   ],
   "source": [
    "import numpy as np\n",
    "import torch\n",
    "import torch.nn as nn\n",
    "import torch.optim as optim\n",
    "import torch.nn.init as init\n",
    "from torch.autograd import Variable\n",
    "from visdom import Visdom\n",
    "viz = Visdom()"
   ]
  },
  {
   "cell_type": "markdown",
   "metadata": {},
   "source": [
    "## 2. Data Generation"
   ]
  },
  {
   "cell_type": "code",
   "execution_count": 2,
   "metadata": {},
   "outputs": [
    {
     "name": "stderr",
     "output_type": "stream",
     "text": [
      "/Users/lim/anaconda3/envs/NLPApps/lib/python3.7/site-packages/ipykernel_launcher.py:4: UserWarning: nn.init.normal is now deprecated in favor of nn.init.normal_.\n",
      "  after removing the cwd from sys.path.\n",
      "/Users/lim/anaconda3/envs/NLPApps/lib/python3.7/site-packages/ipykernel_launcher.py:6: UserWarning: nn.init.uniform is now deprecated in favor of nn.init.uniform_.\n",
      "  \n"
     ]
    }
   ],
   "source": [
    "num_data = 1000\n",
    "num_epoch = 5000\n",
    "\n",
    "noise = init.normal(torch.FloatTensor(num_data,1),std=3)\n",
    "\n",
    "x = init.uniform(torch.Tensor(num_data,1),-15,15)\n",
    "y = (x**2) + 3 \n",
    "\n",
    "y_noise = y + noise"
   ]
  },
  {
   "cell_type": "code",
   "execution_count": 3,
   "metadata": {},
   "outputs": [],
   "source": [
    "# visualize data\n",
    "\n",
    "input_data = torch.cat([x,y_noise],1)\n",
    "\n",
    "win=viz.scatter(\n",
    "    X = input_data,\n",
    "    opts=dict(\n",
    "        xtickmin=-15,\n",
    "        xtickmax=15,\n",
    "        xtickstep=1,\n",
    "        ytickmin=0,\n",
    "        ytickmax=500,\n",
    "        ytickstep=1,\n",
    "        markersymbol='dot',\n",
    "        markercolor=np.random.randint(0, 255, num_data),\n",
    "        markersize=5,\n",
    "    ),\n",
    ")\n"
   ]
  },
  {
   "cell_type": "code",
   "execution_count": 4,
   "metadata": {},
   "outputs": [],
   "source": [
    "\n",
    "win=viz.scatter(\n",
    "    X = torch.cat([x,y],1),\n",
    "    opts=dict(\n",
    "        xtickmin=-15,\n",
    "        xtickmax=15,\n",
    "        xtickstep=1,\n",
    "        ytickmin=0,\n",
    "        ytickmax=500,\n",
    "        ytickstep=1,\n",
    "        markersymbol='dot',\n",
    "        markercolor=np.random.randint(0, 255, num_data),\n",
    "        markersize=5,\n",
    "    ),\n",
    ")\n"
   ]
  },
  {
   "cell_type": "markdown",
   "metadata": {},
   "source": [
    "## 3. Model & Optimizer"
   ]
  },
  {
   "cell_type": "code",
   "execution_count": 5,
   "metadata": {},
   "outputs": [],
   "source": [
    "# fully connected model with 4 hidden layer\n",
    "\n",
    "model = nn.Sequential(\n",
    "        nn.Linear(1,6),\n",
    "        nn.ReLU(),\n",
    "        nn.Linear(6,1)\n",
    "    )\n",
    "\n",
    "loss_func = nn.L1Loss()\n",
    "optimizer = optim.SGD(model.parameters(),lr=0.001)"
   ]
  },
  {
   "cell_type": "markdown",
   "metadata": {},
   "source": [
    "## 4. Train "
   ]
  },
  {
   "cell_type": "code",
   "execution_count": 6,
   "metadata": {
    "scrolled": true
   },
   "outputs": [
    {
     "name": "stdout",
     "output_type": "stream",
     "text": [
      "tensor(77.8420, grad_fn=<L1LossBackward>)\n",
      "tensor(73.6337, grad_fn=<L1LossBackward>)\n",
      "tensor(67.0424, grad_fn=<L1LossBackward>)\n",
      "tensor(54.6285, grad_fn=<L1LossBackward>)\n",
      "tensor(36.6794, grad_fn=<L1LossBackward>)\n",
      "tensor(24.5534, grad_fn=<L1LossBackward>)\n",
      "tensor(21.4724, grad_fn=<L1LossBackward>)\n",
      "tensor(21.1204, grad_fn=<L1LossBackward>)\n",
      "tensor(21.0160, grad_fn=<L1LossBackward>)\n",
      "tensor(20.9263, grad_fn=<L1LossBackward>)\n",
      "tensor(20.8380, grad_fn=<L1LossBackward>)\n",
      "tensor(20.7510, grad_fn=<L1LossBackward>)\n",
      "tensor(20.6634, grad_fn=<L1LossBackward>)\n",
      "tensor(20.5771, grad_fn=<L1LossBackward>)\n",
      "tensor(20.4926, grad_fn=<L1LossBackward>)\n",
      "tensor(20.4084, grad_fn=<L1LossBackward>)\n",
      "tensor(20.3251, grad_fn=<L1LossBackward>)\n",
      "tensor(20.2441, grad_fn=<L1LossBackward>)\n",
      "tensor(20.1631, grad_fn=<L1LossBackward>)\n",
      "tensor(20.0819, grad_fn=<L1LossBackward>)\n",
      "tensor(20.0007, grad_fn=<L1LossBackward>)\n",
      "tensor(19.9186, grad_fn=<L1LossBackward>)\n",
      "tensor(19.8360, grad_fn=<L1LossBackward>)\n",
      "tensor(19.7536, grad_fn=<L1LossBackward>)\n",
      "tensor(19.6702, grad_fn=<L1LossBackward>)\n",
      "tensor(19.5863, grad_fn=<L1LossBackward>)\n",
      "tensor(19.5019, grad_fn=<L1LossBackward>)\n",
      "tensor(19.4180, grad_fn=<L1LossBackward>)\n",
      "tensor(19.3353, grad_fn=<L1LossBackward>)\n",
      "tensor(19.2519, grad_fn=<L1LossBackward>)\n",
      "tensor(19.1701, grad_fn=<L1LossBackward>)\n",
      "tensor(19.0885, grad_fn=<L1LossBackward>)\n",
      "tensor(19.0069, grad_fn=<L1LossBackward>)\n",
      "tensor(18.9249, grad_fn=<L1LossBackward>)\n",
      "tensor(18.8418, grad_fn=<L1LossBackward>)\n",
      "tensor(18.7577, grad_fn=<L1LossBackward>)\n",
      "tensor(18.6746, grad_fn=<L1LossBackward>)\n",
      "tensor(18.5930, grad_fn=<L1LossBackward>)\n",
      "tensor(18.5141, grad_fn=<L1LossBackward>)\n",
      "tensor(18.4371, grad_fn=<L1LossBackward>)\n",
      "tensor(18.3593, grad_fn=<L1LossBackward>)\n",
      "tensor(18.2806, grad_fn=<L1LossBackward>)\n",
      "tensor(18.2011, grad_fn=<L1LossBackward>)\n",
      "tensor(18.1213, grad_fn=<L1LossBackward>)\n",
      "tensor(18.0398, grad_fn=<L1LossBackward>)\n",
      "tensor(17.9580, grad_fn=<L1LossBackward>)\n",
      "tensor(17.8760, grad_fn=<L1LossBackward>)\n",
      "tensor(17.7934, grad_fn=<L1LossBackward>)\n",
      "tensor(17.7085, grad_fn=<L1LossBackward>)\n",
      "tensor(17.6229, grad_fn=<L1LossBackward>)\n"
     ]
    }
   ],
   "source": [
    "loss_arr =[]\n",
    "label = y_noise\n",
    "\n",
    "for i in range(num_epoch):\n",
    "    optimizer.zero_grad()\n",
    "    output = model(x)\n",
    "\n",
    "    loss = loss_func(output,label)\n",
    "    loss.backward()\n",
    "    optimizer.step()\n",
    "    \n",
    "    if i % 100 ==0:\n",
    "        print(loss)\n",
    "    \n",
    "    #loss_arr.append(loss.cpu().data.numpy()[0])\n",
    "    loss_arr.append(loss.item())"
   ]
  },
  {
   "cell_type": "code",
   "execution_count": 7,
   "metadata": {},
   "outputs": [
    {
     "name": "stdout",
     "output_type": "stream",
     "text": [
      "[Parameter containing:\n",
      "tensor([[-0.0102],\n",
      "        [ 0.1442],\n",
      "        [-1.5690],\n",
      "        [-2.6876],\n",
      "        [ 3.2678],\n",
      "        [-0.0409]], requires_grad=True), Parameter containing:\n",
      "tensor([-0.1519,  0.0036, -1.8442, -2.0025, -1.6943, -0.6115],\n",
      "       requires_grad=True), Parameter containing:\n",
      "tensor([[-0.0830,  0.0780,  2.1766,  3.2546,  3.5368, -0.3724]],\n",
      "       requires_grad=True), Parameter containing:\n",
      "tensor([-0.8754], requires_grad=True)]\n"
     ]
    }
   ],
   "source": [
    "param_list = list(model.parameters())\n",
    "print(param_list)"
   ]
  },
  {
   "cell_type": "markdown",
   "metadata": {},
   "source": [
    "## 5. Visualize Trained Output"
   ]
  },
  {
   "cell_type": "code",
   "execution_count": 8,
   "metadata": {},
   "outputs": [],
   "source": [
    "win2=viz.scatter(\n",
    "    X = torch.cat([x, output],1),\n",
    "    opts=dict(\n",
    "        xtickmin=-15,\n",
    "        xtickmax=10,\n",
    "        xtickstep=1,\n",
    "        ytickmin=0,\n",
    "        ytickmax=500,\n",
    "        ytickstep=1,\n",
    "        markersymbol='dot',\n",
    "        markercolor=np.random.randint(0, 255, num_data),\n",
    "        markersize=5,\n",
    "    ),\n",
    ")\n"
   ]
  },
  {
   "cell_type": "markdown",
   "metadata": {},
   "source": [
    "## 6. Visualize Loss Graph"
   ]
  },
  {
   "cell_type": "code",
   "execution_count": 9,
   "metadata": {},
   "outputs": [],
   "source": [
    "x = np.reshape([i for i in range(num_epoch)],newshape=[num_epoch,1])\n",
    "loss_data = np.reshape(loss_arr,newshape=[num_epoch,1])\n",
    "\n",
    "win3=viz.line(\n",
    "    X = x,\n",
    "    Y = loss_data,\n",
    ")"
   ]
  }
 ],
 "metadata": {
  "kernelspec": {
   "display_name": "Python 3",
   "language": "python",
   "name": "python3"
  },
  "language_info": {
   "codemirror_mode": {
    "name": "ipython",
    "version": 3
   },
   "file_extension": ".py",
   "mimetype": "text/x-python",
   "name": "python",
   "nbconvert_exporter": "python",
   "pygments_lexer": "ipython3",
   "version": "3.7.1"
  }
 },
 "nbformat": 4,
 "nbformat_minor": 1
}
